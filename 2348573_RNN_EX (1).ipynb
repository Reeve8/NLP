{
  "nbformat": 4,
  "nbformat_minor": 0,
  "metadata": {
    "colab": {
      "provenance": []
    },
    "kernelspec": {
      "name": "python3",
      "display_name": "Python 3"
    },
    "language_info": {
      "name": "python"
    }
  },
  "cells": [
    {
      "cell_type": "code",
      "execution_count": 6,
      "metadata": {
        "id": "2FFmJghHSlsW"
      },
      "outputs": [],
      "source": [
        "import numpy as np\n",
        "from tensorflow.keras.preprocessing.sequence import pad_sequences\n",
        "from tensorflow.keras.preprocessing.text import Tokenizer\n",
        "from tensorflow.keras.models import Sequential\n",
        "from tensorflow.keras.layers import Embedding, LSTM, Dense\n"
      ]
    },
    {
      "cell_type": "code",
      "source": [
        "# Sample data\n",
        "texts = ['I love this movie!', 'I hate this movie.', 'This movie was okay.']\n"
      ],
      "metadata": {
        "id": "yjWaV0DVS591"
      },
      "execution_count": 7,
      "outputs": []
    },
    {
      "cell_type": "code",
      "source": [
        "# Labels\n",
        "labels = np.array([1, 0, 0])  # 1 for positive, 0 for negative"
      ],
      "metadata": {
        "id": "FsIYB9M2S56h"
      },
      "execution_count": 8,
      "outputs": []
    },
    {
      "cell_type": "code",
      "source": [
        "# Tokenization and padding\n",
        "vocab_size = 1000\n",
        "max_len = 20\n",
        "\n",
        "tokenizer = Tokenizer(num_words=vocab_size)\n",
        "tokenizer.fit_on_texts(texts)\n",
        "sequences = tokenizer.texts_to_sequences(texts)\n",
        "padded_sequences = pad_sequences(sequences, maxlen=max_len)\n"
      ],
      "metadata": {
        "id": "-GYK_aanS51Z"
      },
      "execution_count": 9,
      "outputs": []
    },
    {
      "cell_type": "code",
      "source": [
        "# Model architecture\n",
        "model = Sequential()\n",
        "model.add(Embedding(vocab_size, 64, input_length=max_len))\n",
        "model.add(LSTM(128))\n",
        "model.add(Dense(1, activation='sigmoid'))\n",
        "\n",
        "model.compile(optimizer='adam', loss='binary_crossentropy', metrics=['accuracy'])\n"
      ],
      "metadata": {
        "id": "pSehbHNmTDZv"
      },
      "execution_count": 10,
      "outputs": []
    },
    {
      "cell_type": "code",
      "source": [
        "# Training the model\n",
        "model.fit(padded_sequences, labels, epochs=10, batch_size=1, verbose=1)"
      ],
      "metadata": {
        "colab": {
          "base_uri": "https://localhost:8080/"
        },
        "id": "pAs6jYnBTDW3",
        "outputId": "61656733-a0bd-4551-aec0-7d067879699b"
      },
      "execution_count": 11,
      "outputs": [
        {
          "output_type": "stream",
          "name": "stdout",
          "text": [
            "Epoch 1/10\n",
            "3/3 [==============================] - 2s 19ms/step - loss: 0.7036 - accuracy: 0.0000e+00\n",
            "Epoch 2/10\n",
            "3/3 [==============================] - 0s 17ms/step - loss: 0.6946 - accuracy: 0.6667\n",
            "Epoch 3/10\n",
            "3/3 [==============================] - 0s 16ms/step - loss: 0.6813 - accuracy: 0.6667\n",
            "Epoch 4/10\n",
            "3/3 [==============================] - 0s 17ms/step - loss: 0.6754 - accuracy: 0.6667\n",
            "Epoch 5/10\n",
            "3/3 [==============================] - 0s 18ms/step - loss: 0.6744 - accuracy: 0.6667\n",
            "Epoch 6/10\n",
            "3/3 [==============================] - 0s 19ms/step - loss: 0.6603 - accuracy: 0.6667\n",
            "Epoch 7/10\n",
            "3/3 [==============================] - 0s 20ms/step - loss: 0.6483 - accuracy: 0.6667\n",
            "Epoch 8/10\n",
            "3/3 [==============================] - 0s 19ms/step - loss: 0.6403 - accuracy: 0.6667\n",
            "Epoch 9/10\n",
            "3/3 [==============================] - 0s 17ms/step - loss: 0.6426 - accuracy: 0.6667\n",
            "Epoch 10/10\n",
            "3/3 [==============================] - 0s 18ms/step - loss: 0.6144 - accuracy: 0.6667\n"
          ]
        },
        {
          "output_type": "execute_result",
          "data": {
            "text/plain": [
              "<keras.src.callbacks.History at 0x7fe8f6097490>"
            ]
          },
          "metadata": {},
          "execution_count": 11
        }
      ]
    },
    {
      "cell_type": "code",
      "source": [
        "# Evaluate the model\n",
        "loss, accuracy = model.evaluate(padded_sequences, labels)\n",
        "print(\"Accuracy:\", accuracy)\n"
      ],
      "metadata": {
        "colab": {
          "base_uri": "https://localhost:8080/"
        },
        "id": "pK7bfttpTVPb",
        "outputId": "95899cb7-a693-4cc3-a7e7-48e159b74410"
      },
      "execution_count": 12,
      "outputs": [
        {
          "output_type": "stream",
          "name": "stdout",
          "text": [
            "1/1 [==============================] - 1s 647ms/step - loss: 0.6026 - accuracy: 0.6667\n",
            "Accuracy: 0.6666666865348816\n"
          ]
        }
      ]
    },
    {
      "cell_type": "code",
      "source": [
        "# Predictions\n",
        "test_texts = ['This movie is great!', 'I do not like this movie at all.']\n",
        "test_sequences = tokenizer.texts_to_sequences(test_texts)\n",
        "padded_test_sequences = pad_sequences(test_sequences, maxlen=max_len)\n",
        "\n",
        "predictions = model.predict(padded_test_sequences)\n",
        "print(\"Predictions:\", predictions)"
      ],
      "metadata": {
        "colab": {
          "base_uri": "https://localhost:8080/"
        },
        "id": "b_z830-7TVMi",
        "outputId": "e79407bc-9686-4b3e-9c20-3ea428254e94"
      },
      "execution_count": 13,
      "outputs": [
        {
          "output_type": "stream",
          "name": "stdout",
          "text": [
            "1/1 [==============================] - 1s 522ms/step\n",
            "Predictions: [[0.38767672]\n",
            " [0.3970817 ]]\n"
          ]
        }
      ]
    }
  ]
}
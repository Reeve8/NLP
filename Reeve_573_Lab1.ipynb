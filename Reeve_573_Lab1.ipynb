{
  "nbformat": 4,
  "nbformat_minor": 0,
  "metadata": {
    "colab": {
      "provenance": []
    },
    "kernelspec": {
      "name": "python3",
      "display_name": "Python 3"
    },
    "language_info": {
      "name": "python"
    }
  },
  "cells": [
    {
      "cell_type": "code",
      "execution_count": 2,
      "metadata": {
        "id": "bfBtotJANg9I"
      },
      "outputs": [],
      "source": [
        "paragraph = \"Football, known as the beautiful game, unites fans across the globe in passion and excitement. From the roar of the crowd to the precision of a well-executed pass, every moment on the pitch holds its own story. In the heat of competition, players strive for glory, chasing dreams of victory and championship titles. The drama unfolds with each match, as teams battle for supremacy, fueled by skill, determination, and sheer grit. Whether it's the World Cup final or a local derby, the spirit of football transcends boundaries, creating memories that last a lifetime.\""
      ]
    },
    {
      "cell_type": "markdown",
      "source": [
        "### a. Word Tokenization\n",
        "##### NLTK's word_tokenize function breaks the paragraph into a list of words based on spaces and punctuation, important step in text analysis. Used for sentiment analysis and pre-POS tagging."
      ],
      "metadata": {
        "id": "0ZX-_CBuWiY8"
      }
    },
    {
      "cell_type": "code",
      "source": [
        "import nltk\n",
        "nltk.download('punkt')\n",
        "nltk_tokens = nltk.word_tokenize(paragraph)\n",
        "print(nltk_tokens)\n"
      ],
      "metadata": {
        "colab": {
          "base_uri": "https://localhost:8080/"
        },
        "id": "7xmkcT5AWnV6",
        "outputId": "485925c7-dcd3-4575-b323-a12399dd9fe2"
      },
      "execution_count": 3,
      "outputs": [
        {
          "output_type": "stream",
          "name": "stderr",
          "text": [
            "[nltk_data] Downloading package punkt to /root/nltk_data...\n",
            "[nltk_data]   Unzipping tokenizers/punkt.zip.\n"
          ]
        },
        {
          "output_type": "stream",
          "name": "stdout",
          "text": [
            "['Football', ',', 'known', 'as', 'the', 'beautiful', 'game', ',', 'unites', 'fans', 'across', 'the', 'globe', 'in', 'passion', 'and', 'excitement', '.', 'From', 'the', 'roar', 'of', 'the', 'crowd', 'to', 'the', 'precision', 'of', 'a', 'well-executed', 'pass', ',', 'every', 'moment', 'on', 'the', 'pitch', 'holds', 'its', 'own', 'story', '.', 'In', 'the', 'heat', 'of', 'competition', ',', 'players', 'strive', 'for', 'glory', ',', 'chasing', 'dreams', 'of', 'victory', 'and', 'championship', 'titles', '.', 'The', 'drama', 'unfolds', 'with', 'each', 'match', ',', 'as', 'teams', 'battle', 'for', 'supremacy', ',', 'fueled', 'by', 'skill', ',', 'determination', ',', 'and', 'sheer', 'grit', '.', 'Whether', 'it', \"'s\", 'the', 'World', 'Cup', 'final', 'or', 'a', 'local', 'derby', ',', 'the', 'spirit', 'of', 'football', 'transcends', 'boundaries', ',', 'creating', 'memories', 'that', 'last', 'a', 'lifetime', '.']\n"
          ]
        }
      ]
    },
    {
      "cell_type": "markdown",
      "source": [
        "### b. Sentance Tokenization\n",
        "##### NLTK's sent_tokenize function divides the paragraph into a list of sentences, helps in machine translation, sentiment analysis and helps understand context of a sentance.\n",
        "\n",
        "\n"
      ],
      "metadata": {
        "id": "16sLZAM5YPkb"
      }
    },
    {
      "cell_type": "code",
      "source": [
        "sent_tokens = nltk.sent_tokenize(paragraph)\n",
        "print(sent_tokens)"
      ],
      "metadata": {
        "colab": {
          "base_uri": "https://localhost:8080/"
        },
        "id": "bmz56fomWqGw",
        "outputId": "91e0eee6-31ee-4e89-cb52-d9d7ec50d6be"
      },
      "execution_count": 4,
      "outputs": [
        {
          "output_type": "stream",
          "name": "stdout",
          "text": [
            "['Football, known as the beautiful game, unites fans across the globe in passion and excitement.', 'From the roar of the crowd to the precision of a well-executed pass, every moment on the pitch holds its own story.', 'In the heat of competition, players strive for glory, chasing dreams of victory and championship titles.', 'The drama unfolds with each match, as teams battle for supremacy, fueled by skill, determination, and sheer grit.', \"Whether it's the World Cup final or a local derby, the spirit of football transcends boundaries, creating memories that last a lifetime.\"]\n"
          ]
        }
      ]
    },
    {
      "cell_type": "markdown",
      "source": [
        "### c. Punctuation-based Tokenizer\n",
        "##### This regular expression captures either words or punctuation marks, effectively tokenizing the paragraph, isolate words and phrases delimited by punctuation. Useful in text cleaning, where you want to separate punctuation from words, or for tasks focusing on specific patterns around punctuation."
      ],
      "metadata": {
        "id": "pZIav0i5Y7zQ"
      }
    },
    {
      "cell_type": "code",
      "source": [
        "import re\n",
        "punct_tokens = re.findall(r'\\b\\w+\\b|[.,;!?]', paragraph)\n",
        "print(punct_tokens)"
      ],
      "metadata": {
        "colab": {
          "base_uri": "https://localhost:8080/"
        },
        "id": "z8fO_ijnYW_3",
        "outputId": "b1c9689d-f242-4b62-fc39-0a741fc1ac36"
      },
      "execution_count": 5,
      "outputs": [
        {
          "output_type": "stream",
          "name": "stdout",
          "text": [
            "['Football', ',', 'known', 'as', 'the', 'beautiful', 'game', ',', 'unites', 'fans', 'across', 'the', 'globe', 'in', 'passion', 'and', 'excitement', '.', 'From', 'the', 'roar', 'of', 'the', 'crowd', 'to', 'the', 'precision', 'of', 'a', 'well', 'executed', 'pass', ',', 'every', 'moment', 'on', 'the', 'pitch', 'holds', 'its', 'own', 'story', '.', 'In', 'the', 'heat', 'of', 'competition', ',', 'players', 'strive', 'for', 'glory', ',', 'chasing', 'dreams', 'of', 'victory', 'and', 'championship', 'titles', '.', 'The', 'drama', 'unfolds', 'with', 'each', 'match', ',', 'as', 'teams', 'battle', 'for', 'supremacy', ',', 'fueled', 'by', 'skill', ',', 'determination', ',', 'and', 'sheer', 'grit', '.', 'Whether', 'it', 's', 'the', 'World', 'Cup', 'final', 'or', 'a', 'local', 'derby', ',', 'the', 'spirit', 'of', 'football', 'transcends', 'boundaries', ',', 'creating', 'memories', 'that', 'last', 'a', 'lifetime', '.']\n"
          ]
        }
      ]
    },
    {
      "cell_type": "markdown",
      "source": [
        "### d. Treebank Word Tokenizer\n",
        "##### NLTK's TreebankWordTokenizer uses the Penn Treebank conventions to tokenize words(hyphenated words).  Suitable for tasks where handling contractions and hyphenated words is important, such as in linguistic analysis."
      ],
      "metadata": {
        "id": "lirkG5mrZGeC"
      }
    },
    {
      "cell_type": "code",
      "source": [
        "from nltk.tokenize import TreebankWordTokenizer\n",
        "treebank_tokenizer = TreebankWordTokenizer()\n",
        "treebank_tokens = treebank_tokenizer.tokenize(paragraph)\n",
        "print(treebank_tokens)"
      ],
      "metadata": {
        "colab": {
          "base_uri": "https://localhost:8080/"
        },
        "id": "0oXrPNFJZCoT",
        "outputId": "c1c2dde2-8a6d-4087-aaf5-a3eb1ccdc7fe"
      },
      "execution_count": 6,
      "outputs": [
        {
          "output_type": "stream",
          "name": "stdout",
          "text": [
            "['Football', ',', 'known', 'as', 'the', 'beautiful', 'game', ',', 'unites', 'fans', 'across', 'the', 'globe', 'in', 'passion', 'and', 'excitement.', 'From', 'the', 'roar', 'of', 'the', 'crowd', 'to', 'the', 'precision', 'of', 'a', 'well-executed', 'pass', ',', 'every', 'moment', 'on', 'the', 'pitch', 'holds', 'its', 'own', 'story.', 'In', 'the', 'heat', 'of', 'competition', ',', 'players', 'strive', 'for', 'glory', ',', 'chasing', 'dreams', 'of', 'victory', 'and', 'championship', 'titles.', 'The', 'drama', 'unfolds', 'with', 'each', 'match', ',', 'as', 'teams', 'battle', 'for', 'supremacy', ',', 'fueled', 'by', 'skill', ',', 'determination', ',', 'and', 'sheer', 'grit.', 'Whether', 'it', \"'s\", 'the', 'World', 'Cup', 'final', 'or', 'a', 'local', 'derby', ',', 'the', 'spirit', 'of', 'football', 'transcends', 'boundaries', ',', 'creating', 'memories', 'that', 'last', 'a', 'lifetime', '.']\n"
          ]
        }
      ]
    },
    {
      "cell_type": "markdown",
      "source": [
        "### e. Tweet Tokenizer\n",
        "##### NLTK's TweetTokenizer is designed to handle tweets, preserving hashtags and mentions. Ideal for sentiment analysis, topic modeling, and other NLP tasks involving Twitter data."
      ],
      "metadata": {
        "id": "VjQExtHUZVLe"
      }
    },
    {
      "cell_type": "code",
      "source": [
        "from nltk.tokenize import TweetTokenizer\n",
        "tweet_tokenizer = TweetTokenizer()\n",
        "tweet_tokens = tweet_tokenizer.tokenize(paragraph)\n",
        "print(tweet_tokens)\n"
      ],
      "metadata": {
        "colab": {
          "base_uri": "https://localhost:8080/"
        },
        "id": "0EDoboD_ZPvo",
        "outputId": "d9744cd3-e27a-46be-a9bb-f2b31c32d5c4"
      },
      "execution_count": 7,
      "outputs": [
        {
          "output_type": "stream",
          "name": "stdout",
          "text": [
            "['Football', ',', 'known', 'as', 'the', 'beautiful', 'game', ',', 'unites', 'fans', 'across', 'the', 'globe', 'in', 'passion', 'and', 'excitement', '.', 'From', 'the', 'roar', 'of', 'the', 'crowd', 'to', 'the', 'precision', 'of', 'a', 'well-executed', 'pass', ',', 'every', 'moment', 'on', 'the', 'pitch', 'holds', 'its', 'own', 'story', '.', 'In', 'the', 'heat', 'of', 'competition', ',', 'players', 'strive', 'for', 'glory', ',', 'chasing', 'dreams', 'of', 'victory', 'and', 'championship', 'titles', '.', 'The', 'drama', 'unfolds', 'with', 'each', 'match', ',', 'as', 'teams', 'battle', 'for', 'supremacy', ',', 'fueled', 'by', 'skill', ',', 'determination', ',', 'and', 'sheer', 'grit', '.', 'Whether', \"it's\", 'the', 'World', 'Cup', 'final', 'or', 'a', 'local', 'derby', ',', 'the', 'spirit', 'of', 'football', 'transcends', 'boundaries', ',', 'creating', 'memories', 'that', 'last', 'a', 'lifetime', '.']\n"
          ]
        }
      ]
    },
    {
      "cell_type": "markdown",
      "source": [
        "### f. Multi-Word Expression Tokenizer\n",
        "##### NLTK's MWETokenizer allows tokenization of specific multi-word expressions. Useful in tasks where understanding multi-word phrases is essential, like in specialized domain language processing.\n"
      ],
      "metadata": {
        "id": "2tEUIZyvZnnX"
      }
    },
    {
      "cell_type": "code",
      "source": [
        "from nltk.tokenize import MWETokenizer\n",
        "mwetokenizer = MWETokenizer([('rhythmic', 'symphony'), ('water\\'s', 'edge')])\n",
        "mwe_tokens = mwetokenizer.tokenize(nltk.word_tokenize(paragraph))\n",
        "print(mwe_tokens)\n"
      ],
      "metadata": {
        "colab": {
          "base_uri": "https://localhost:8080/"
        },
        "id": "Ul1EkIf2Zk-L",
        "outputId": "53fd4f22-7654-4f47-ef63-000e22137102"
      },
      "execution_count": 8,
      "outputs": [
        {
          "output_type": "stream",
          "name": "stdout",
          "text": [
            "['Football', ',', 'known', 'as', 'the', 'beautiful', 'game', ',', 'unites', 'fans', 'across', 'the', 'globe', 'in', 'passion', 'and', 'excitement', '.', 'From', 'the', 'roar', 'of', 'the', 'crowd', 'to', 'the', 'precision', 'of', 'a', 'well-executed', 'pass', ',', 'every', 'moment', 'on', 'the', 'pitch', 'holds', 'its', 'own', 'story', '.', 'In', 'the', 'heat', 'of', 'competition', ',', 'players', 'strive', 'for', 'glory', ',', 'chasing', 'dreams', 'of', 'victory', 'and', 'championship', 'titles', '.', 'The', 'drama', 'unfolds', 'with', 'each', 'match', ',', 'as', 'teams', 'battle', 'for', 'supremacy', ',', 'fueled', 'by', 'skill', ',', 'determination', ',', 'and', 'sheer', 'grit', '.', 'Whether', 'it', \"'s\", 'the', 'World', 'Cup', 'final', 'or', 'a', 'local', 'derby', ',', 'the', 'spirit', 'of', 'football', 'transcends', 'boundaries', ',', 'creating', 'memories', 'that', 'last', 'a', 'lifetime', '.']\n"
          ]
        }
      ]
    },
    {
      "cell_type": "markdown",
      "source": [
        "###g. TextBlob Word Tokenize\n",
        "##### TextBlob's words attribute provides a convenient way to access the words in the paragraph.  Suitable for quick and simple NLP tasks, especially in educational or prototyping contexts."
      ],
      "metadata": {
        "id": "WP9mr5OGZzgm"
      }
    },
    {
      "cell_type": "code",
      "source": [
        "from textblob import TextBlob\n",
        "blob = TextBlob(paragraph)\n",
        "textblob_tokens = blob.words\n",
        "print(textblob_tokens)\n"
      ],
      "metadata": {
        "colab": {
          "base_uri": "https://localhost:8080/"
        },
        "id": "umXFfNVHZpyc",
        "outputId": "6fe9c337-0177-4278-a076-099aac578ff9"
      },
      "execution_count": 9,
      "outputs": [
        {
          "output_type": "stream",
          "name": "stdout",
          "text": [
            "['Football', 'known', 'as', 'the', 'beautiful', 'game', 'unites', 'fans', 'across', 'the', 'globe', 'in', 'passion', 'and', 'excitement', 'From', 'the', 'roar', 'of', 'the', 'crowd', 'to', 'the', 'precision', 'of', 'a', 'well-executed', 'pass', 'every', 'moment', 'on', 'the', 'pitch', 'holds', 'its', 'own', 'story', 'In', 'the', 'heat', 'of', 'competition', 'players', 'strive', 'for', 'glory', 'chasing', 'dreams', 'of', 'victory', 'and', 'championship', 'titles', 'The', 'drama', 'unfolds', 'with', 'each', 'match', 'as', 'teams', 'battle', 'for', 'supremacy', 'fueled', 'by', 'skill', 'determination', 'and', 'sheer', 'grit', 'Whether', 'it', \"'s\", 'the', 'World', 'Cup', 'final', 'or', 'a', 'local', 'derby', 'the', 'spirit', 'of', 'football', 'transcends', 'boundaries', 'creating', 'memories', 'that', 'last', 'a', 'lifetime']\n"
          ]
        }
      ]
    },
    {
      "cell_type": "markdown",
      "source": [
        "### h. spaCy Tokenizer\n",
        "#####  spaCy tokenizes the paragraph using a sophisticated language model and provides detailed information about each token. Valuable in various NLP tasks, including named entity recognition, dependency parsing, and other advanced applications.\n"
      ],
      "metadata": {
        "id": "zyAa8VfbZ6f5"
      }
    },
    {
      "cell_type": "code",
      "source": [
        "import spacy\n",
        "nlp = spacy.load('en_core_web_sm')\n",
        "doc = nlp(paragraph)\n",
        "spacy_tokens = [token.text for token in doc]\n",
        "print(spacy_tokens)"
      ],
      "metadata": {
        "colab": {
          "base_uri": "https://localhost:8080/"
        },
        "id": "kKWyOUe9Z2_v",
        "outputId": "cc10593c-d743-4d83-8528-dece628869f8"
      },
      "execution_count": 10,
      "outputs": [
        {
          "output_type": "stream",
          "name": "stdout",
          "text": [
            "['Football', ',', 'known', 'as', 'the', 'beautiful', 'game', ',', 'unites', 'fans', 'across', 'the', 'globe', 'in', 'passion', 'and', 'excitement', '.', 'From', 'the', 'roar', 'of', 'the', 'crowd', 'to', 'the', 'precision', 'of', 'a', 'well', '-', 'executed', 'pass', ',', 'every', 'moment', 'on', 'the', 'pitch', 'holds', 'its', 'own', 'story', '.', 'In', 'the', 'heat', 'of', 'competition', ',', 'players', 'strive', 'for', 'glory', ',', 'chasing', 'dreams', 'of', 'victory', 'and', 'championship', 'titles', '.', 'The', 'drama', 'unfolds', 'with', 'each', 'match', ',', 'as', 'teams', 'battle', 'for', 'supremacy', ',', 'fueled', 'by', 'skill', ',', 'determination', ',', 'and', 'sheer', 'grit', '.', 'Whether', 'it', \"'s\", 'the', 'World', 'Cup', 'final', 'or', 'a', 'local', 'derby', ',', 'the', 'spirit', 'of', 'football', 'transcends', 'boundaries', ',', 'creating', 'memories', 'that', 'last', 'a', 'lifetime', '.']\n"
          ]
        }
      ]
    },
    {
      "cell_type": "markdown",
      "source": [
        "### i. Gensim Word Tokenizer\n",
        "##### Gensim's tokenizer is part of the Gensim library, known for topic modeling and document similarity analysis. Used in topic modeling, document clustering, and other tasks related to semantic analysis."
      ],
      "metadata": {
        "id": "_-dkaNdjad86"
      }
    },
    {
      "cell_type": "code",
      "source": [
        "from gensim.utils import tokenize\n",
        "gensim_tokens = list(tokenize(paragraph))\n",
        "print(gensim_tokens)\n"
      ],
      "metadata": {
        "colab": {
          "base_uri": "https://localhost:8080/"
        },
        "id": "0RM5rwpdabcL",
        "outputId": "9a7d6345-12d6-4868-92ba-5ce8fc0cc1db"
      },
      "execution_count": 11,
      "outputs": [
        {
          "output_type": "stream",
          "name": "stdout",
          "text": [
            "['Football', 'known', 'as', 'the', 'beautiful', 'game', 'unites', 'fans', 'across', 'the', 'globe', 'in', 'passion', 'and', 'excitement', 'From', 'the', 'roar', 'of', 'the', 'crowd', 'to', 'the', 'precision', 'of', 'a', 'well', 'executed', 'pass', 'every', 'moment', 'on', 'the', 'pitch', 'holds', 'its', 'own', 'story', 'In', 'the', 'heat', 'of', 'competition', 'players', 'strive', 'for', 'glory', 'chasing', 'dreams', 'of', 'victory', 'and', 'championship', 'titles', 'The', 'drama', 'unfolds', 'with', 'each', 'match', 'as', 'teams', 'battle', 'for', 'supremacy', 'fueled', 'by', 'skill', 'determination', 'and', 'sheer', 'grit', 'Whether', 'it', 's', 'the', 'World', 'Cup', 'final', 'or', 'a', 'local', 'derby', 'the', 'spirit', 'of', 'football', 'transcends', 'boundaries', 'creating', 'memories', 'that', 'last', 'a', 'lifetime']\n"
          ]
        }
      ]
    },
    {
      "cell_type": "markdown",
      "source": [
        "### j. Tokenization with Keras\n",
        "##### Keras' text_to_word_sequence method tokenizes the paragraph into words while converting everything to lowercase. Used in text classification, language modeling, and sequence-to-sequence tasks."
      ],
      "metadata": {
        "id": "LwAZfnwhcBxu"
      }
    },
    {
      "cell_type": "code",
      "source": [
        "from keras.preprocessing.text import text_to_word_sequence\n",
        "keras_tokens = text_to_word_sequence(paragraph)\n",
        "print(keras_tokens)"
      ],
      "metadata": {
        "colab": {
          "base_uri": "https://localhost:8080/"
        },
        "id": "HQtIoUeMcAaS",
        "outputId": "a3870b18-91c7-45eb-fae9-de2e288afa08"
      },
      "execution_count": 12,
      "outputs": [
        {
          "output_type": "stream",
          "name": "stdout",
          "text": [
            "['football', 'known', 'as', 'the', 'beautiful', 'game', 'unites', 'fans', 'across', 'the', 'globe', 'in', 'passion', 'and', 'excitement', 'from', 'the', 'roar', 'of', 'the', 'crowd', 'to', 'the', 'precision', 'of', 'a', 'well', 'executed', 'pass', 'every', 'moment', 'on', 'the', 'pitch', 'holds', 'its', 'own', 'story', 'in', 'the', 'heat', 'of', 'competition', 'players', 'strive', 'for', 'glory', 'chasing', 'dreams', 'of', 'victory', 'and', 'championship', 'titles', 'the', 'drama', 'unfolds', 'with', 'each', 'match', 'as', 'teams', 'battle', 'for', 'supremacy', 'fueled', 'by', 'skill', 'determination', 'and', 'sheer', 'grit', 'whether', \"it's\", 'the', 'world', 'cup', 'final', 'or', 'a', 'local', 'derby', 'the', 'spirit', 'of', 'football', 'transcends', 'boundaries', 'creating', 'memories', 'that', 'last', 'a', 'lifetime']\n"
          ]
        }
      ]
    }
  ]
}
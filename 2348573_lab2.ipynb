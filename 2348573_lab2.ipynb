{
  "nbformat": 4,
  "nbformat_minor": 0,
  "metadata": {
    "colab": {
      "provenance": []
    },
    "kernelspec": {
      "name": "python3",
      "display_name": "Python 3"
    },
    "language_info": {
      "name": "python"
    }
  },
  "cells": [
    {
      "cell_type": "code",
      "source": [
        "import re\n",
        "import spacy\n",
        "import pandas as pd\n",
        "import matplotlib.pyplot as plt\n",
        "from collections import Counter\n",
        "from nltk.corpus import stopwords\n",
        "from nltk.tokenize import word_tokenize\n",
        "from nltk import pos_tag\n",
        "from nltk.probability import FreqDist\n",
        "from nltk.util import ngrams\n",
        "!pip install datefinder\n",
        "!pip install phonenumbers\n",
        "import nltk\n",
        "from nltk.tokenize import word_tokenize\n",
        "import datefinder\n",
        "import phonenumbers"
      ],
      "metadata": {
        "colab": {
          "base_uri": "https://localhost:8080/"
        },
        "id": "-baWooUKOQhc",
        "outputId": "168d6963-ded0-43b8-ccbd-b1f7c2985f8f"
      },
      "execution_count": null,
      "outputs": [
        {
          "output_type": "stream",
          "name": "stdout",
          "text": [
            "Requirement already satisfied: datefinder in /usr/local/lib/python3.10/dist-packages (0.7.3)\n",
            "Requirement already satisfied: regex>=2017.02.08 in /usr/local/lib/python3.10/dist-packages (from datefinder) (2023.12.25)\n",
            "Requirement already satisfied: python-dateutil>=2.4.2 in /usr/local/lib/python3.10/dist-packages (from datefinder) (2.8.2)\n",
            "Requirement already satisfied: pytz in /usr/local/lib/python3.10/dist-packages (from datefinder) (2023.4)\n",
            "Requirement already satisfied: six>=1.5 in /usr/local/lib/python3.10/dist-packages (from python-dateutil>=2.4.2->datefinder) (1.16.0)\n",
            "Requirement already satisfied: phonenumbers in /usr/local/lib/python3.10/dist-packages (8.13.30)\n"
          ]
        }
      ]
    },
    {
      "cell_type": "code",
      "source": [
        "# Sample paragraph\n",
        "paragraph = \"In the field of data science, data preprocessing plays a crucial role. It involves various tasks such as data cleaning, integrating, and transforming. Different tools and techniques, including Python, Pandas, and Numpy, are used for this purpose. Email me at example@email.com for further details. My phone number is +1234567890. I was born on 27-March-2000.\""
      ],
      "metadata": {
        "id": "WiIWG23bOZ6y"
      },
      "execution_count": null,
      "outputs": []
    },
    {
      "cell_type": "markdown",
      "source": [
        "### 1. Count the number of unique tokens in the text"
      ],
      "metadata": {
        "id": "DvKYFdcsVvym"
      }
    },
    {
      "cell_type": "code",
      "source": [
        "# Download the tokenizer data\n",
        "nltk.download('punkt')\n",
        "\n",
        "#Tokenize the paragraph and count the number of unique tokens\n",
        "tokens = word_tokenize(paragraph)\n",
        "unique_tokens_count = len(set(tokens))\n",
        "\n",
        "# Print the number of unique tokens\n",
        "print(\"The number of unique tokens in the text is:\", unique_tokens_count)"
      ],
      "metadata": {
        "colab": {
          "base_uri": "https://localhost:8080/"
        },
        "id": "c34vJuL8Oc1s",
        "outputId": "a45e79cd-af34-434b-c905-f4ee6c7e56ff"
      },
      "execution_count": null,
      "outputs": [
        {
          "output_type": "stream",
          "name": "stdout",
          "text": [
            "The number of unique tokens in the text is: 53\n"
          ]
        },
        {
          "output_type": "stream",
          "name": "stderr",
          "text": [
            "[nltk_data] Downloading package punkt to /root/nltk_data...\n",
            "[nltk_data]   Package punkt is already up-to-date!\n"
          ]
        }
      ]
    },
    {
      "cell_type": "markdown",
      "source": [
        "### 2. Count the number of punctuation characters and remove punctuations."
      ],
      "metadata": {
        "id": "6tfKNSHwWmsy"
      }
    },
    {
      "cell_type": "code",
      "source": [
        "# Count the number of punctuation characters\n",
        "punctuations_count = len([char for char in paragraph if char in '!\"#$%&\\'()*+,-./:;<=>?@[\\\\]^_`{|}~'])\n",
        "print(\"The number of punctuation characters in the text is:\", punctuations_count)\n",
        "\n",
        "# Remove punctuations\n",
        "cleaned_paragraph = re.sub(r'[^\\w\\s]', '', paragraph)\n",
        "print(\"The paragraph after removing punctuations:\\n\", cleaned_paragraph)"
      ],
      "metadata": {
        "colab": {
          "base_uri": "https://localhost:8080/"
        },
        "id": "XEIw4YcBOevO",
        "outputId": "04cfdb43-3952-4735-cb6e-1cfff4b015a4"
      },
      "execution_count": null,
      "outputs": [
        {
          "output_type": "stream",
          "name": "stdout",
          "text": [
            "The number of punctuation characters in the text is: 18\n",
            "The paragraph after removing punctuations:\n",
            " In the field of data science data preprocessing plays a crucial role It involves various tasks such as data cleaning integrating and transforming Different tools and techniques including Python Pandas and Numpy are used for this purpose Email me at exampleemailcom for further details My phone number is 1234567890 I was born on 27March2000\n"
          ]
        }
      ]
    },
    {
      "cell_type": "markdown",
      "source": [
        "### 3. Plot the distribution of stopwords used in the text using barplot."
      ],
      "metadata": {
        "id": "ehtcMe6-XKzP"
      }
    },
    {
      "cell_type": "code",
      "source": [
        "# Download nltk stopwords data\n",
        "nltk.download('stopwords')\n",
        "\n",
        "# Ploting the distribution of stopwords used in the text using barplot.\n",
        "stop_words = set(stopwords.words('english'))\n",
        "stopwords_dist = FreqDist([word for word in tokens if word.lower() in stop_words])\n",
        "stopwords_df = pd.DataFrame({'Stopword': list(stopwords_dist.keys()), 'Count': list(stopwords_dist.values())})\n",
        "stopwords_df.plot(x='Stopword', y='Count', kind='bar', title='Distribution of Stopwords')\n",
        "plt.show()\n",
        "\n"
      ],
      "metadata": {
        "colab": {
          "base_uri": "https://localhost:8080/",
          "height": 541
        },
        "id": "oqnYdXsQOgRa",
        "outputId": "0e26835a-ebb8-4ad6-d505-52c4fa487de1"
      },
      "execution_count": null,
      "outputs": [
        {
          "output_type": "stream",
          "name": "stderr",
          "text": [
            "[nltk_data] Downloading package stopwords to /root/nltk_data...\n",
            "[nltk_data]   Package stopwords is already up-to-date!\n"
          ]
        },
        {
          "output_type": "display_data",
          "data": {
            "text/plain": [
              "<Figure size 640x480 with 1 Axes>"
            ],
            "image/png": "[encoded data removed]"
          },
          "metadata": {}
        }
      ]
    },
    {
      "cell_type": "markdown",
      "source": [
        "### 4. Remove the stopwords from the text."
      ],
      "metadata": {
        "id": "bQhk6ZuOXXYL"
      }
    },
    {
      "cell_type": "code",
      "source": [
        "# Tokenize the paragraph\n",
        "tokens = word_tokenize(paragraph)\n",
        "\n",
        "# Remove the stopwords from the text\n",
        "stop_words = set(stopwords.words('english'))\n",
        "filtered_paragraph = ' '.join([word for word in tokens if word.lower() not in stop_words])\n",
        "\n",
        "# Print the filtered paragraph\n",
        "print(\"Filtered Paragraph:\", filtered_paragraph)"
      ],
      "metadata": {
        "colab": {
          "base_uri": "https://localhost:8080/"
        },
        "id": "2qmfeBddOh6f",
        "outputId": "ac17ed29-594c-4d68-ca71-a1322c66040b"
      },
      "execution_count": null,
      "outputs": [
        {
          "output_type": "stream",
          "name": "stdout",
          "text": [
            "Filtered Paragraph: field data science , data preprocessing plays crucial role . involves various tasks data cleaning , integrating , transforming . Different tools techniques , including Python , Pandas , Numpy , used purpose . Email example @ email.com details . phone number +1234567890 . born 27-March-2000 .\n"
          ]
        }
      ]
    },
    {
      "cell_type": "markdown",
      "source": [
        "### 5. Plot the distribution of each POS Tag using a barplot\n"
      ],
      "metadata": {
        "id": "kVwZXNUKXcBx"
      }
    },
    {
      "cell_type": "code",
      "source": [
        "# Plot the distribution of each POS Tag using a barplot\n",
        "nlp = spacy.load('en_core_web_sm')\n",
        "doc = nlp(paragraph)\n",
        "pos_tags = [token.pos_ for token in doc]\n",
        "pos_tags_dist = FreqDist(pos_tags)\n",
        "pos_tags_df = pd.DataFrame({'POS Tag': list(pos_tags_dist.keys()), 'Count': list(pos_tags_dist.values())})\n",
        "pos_tags_df.plot(x='POS Tag', y='Count', kind='bar', title='Distribution of POS Tags')"
      ],
      "metadata": {
        "colab": {
          "base_uri": "https://localhost:8080/",
          "height": 522
        },
        "id": "8CFpqpP2OkB8",
        "outputId": "33a43825-f2e3-4caa-9702-ad26c544e74a"
      },
      "execution_count": null,
      "outputs": [
        {
          "output_type": "execute_result",
          "data": {
            "text/plain": [
              "<Axes: title={'center': 'Distribution of POS Tags'}, xlabel='POS Tag'>"
            ]
          },
          "metadata": {},
          "execution_count": 10
        },
        {
          "output_type": "display_data",
          "data": {
            "text/plain": [
              "<Figure size 640x480 with 1 Axes>"
            ],
            "image/png": "[encoded data removed]"
          },
          "metadata": {}
        }
      ]
    },
    {
      "cell_type": "markdown",
      "source": [
        "### 6. Determine the number of unique lemma available in the text"
      ],
      "metadata": {
        "id": "VoeX7OBMXiFK"
      }
    },
    {
      "cell_type": "code",
      "source": [
        "# Calculate the number of unique lemma available in the text\n",
        "lemmas = [token.lemma_ for token in doc if token.lemma_ != '-PRON-']\n",
        "unique_lemmas_count = len(set(lemmas))\n",
        "\n",
        "# Print the number of unique lemmas\n",
        "print(\"The number of unique lemmas available in the text is:\", unique_lemmas_count)\n"
      ],
      "metadata": {
        "colab": {
          "base_uri": "https://localhost:8080/"
        },
        "id": "VZYcsEleOlvt",
        "outputId": "59647f4c-0202-4fb0-ff8f-171d2d83fbf0"
      },
      "execution_count": null,
      "outputs": [
        {
          "output_type": "stream",
          "name": "stdout",
          "text": [
            "The number of unique lemmas available in the text is: 50\n"
          ]
        }
      ]
    },
    {
      "cell_type": "markdown",
      "source": [
        "### 7. Plot the frequency distribution of words in the text. Display only the top 10(most occurring) tokens in the chart.\n",
        "\n"
      ],
      "metadata": {
        "id": "k70Gd_7XXmDu"
      }
    },
    {
      "cell_type": "code",
      "source": [
        "# Plot the frequency distribution of words in the text. Display only the top 10 (most occurring) tokens in the chart\n",
        "fdist = FreqDist(tokens)\n",
        "top_10_tokens = fdist.most_common(10)\n",
        "top_10_df = pd.DataFrame(top_10_tokens, columns=['Token', 'Frequency'])\n",
        "top_10_df.plot(x='Token', y='Frequency', kind='bar', title='Top 10 Tokens Frequency Distribution')"
      ],
      "metadata": {
        "colab": {
          "base_uri": "https://localhost:8080/",
          "height": 527
        },
        "id": "Hr2abtX0OnO2",
        "outputId": "15c2f761-8949-4af7-b2a4-1f2fd832e420"
      },
      "execution_count": null,
      "outputs": [
        {
          "output_type": "execute_result",
          "data": {
            "text/plain": [
              "<Axes: title={'center': 'Top 10 Tokens Frequency Distribution'}, xlabel='Token'>"
            ]
          },
          "metadata": {},
          "execution_count": 12
        },
        {
          "output_type": "display_data",
          "data": {
            "text/plain": [
              "<Figure size 640x480 with 1 Axes>"
            ],
            "image/png": "[encoded data removed]"
          },
          "metadata": {}
        }
      ]
    },
    {
      "cell_type": "markdown",
      "source": [
        "### 8. Find the number of unique bigrams, trigrams and quadgrams (n=4) in the corpus"
      ],
      "metadata": {
        "id": "wOQATE8sXsmV"
      }
    },
    {
      "cell_type": "code",
      "source": [
        "# Generate ngrams\n",
        "bigrams = ngrams(tokens, 2)\n",
        "trigrams = ngrams(tokens, 3)\n",
        "quadgrams = ngrams(tokens, 4)\n",
        "\n",
        "# Calculate the counts of unique bigrams, trigrams, and quadgrams\n",
        "unique_bigrams_count = len(set(bigrams))\n",
        "unique_trigrams_count = len(set(trigrams))\n",
        "unique_quadgrams_count = len(set(quadgrams))\n",
        "\n",
        "# Print the counts of unique bigrams, trigrams, and quadgrams\n",
        "print(\"Number of unique bigrams:\", unique_bigrams_count)\n",
        "print(\"Number of unique trigrams:\", unique_trigrams_count)\n",
        "print(\"Number of unique quadgrams:\", unique_quadgrams_count)\n"
      ],
      "metadata": {
        "colab": {
          "base_uri": "https://localhost:8080/"
        },
        "id": "AQ7u9WOUOpOw",
        "outputId": "181ba908-fa64-4bb2-decb-0f777577f1d6"
      },
      "execution_count": null,
      "outputs": [
        {
          "output_type": "stream",
          "name": "stdout",
          "text": [
            "Number of unique bigrams: 67\n",
            "Number of unique trigrams: 67\n",
            "Number of unique quadgrams: 66\n"
          ]
        }
      ]
    },
    {
      "cell_type": "markdown",
      "source": [
        "### 9. Find all dates and convert them to the DD-MM-YYYY format.\n"
      ],
      "metadata": {
        "id": "AsAQtuD1XvxG"
      }
    },
    {
      "cell_type": "code",
      "source": [
        "# Find all dates in the paragraph\n",
        "dates = datefinder.find_dates(paragraph)\n",
        "\n",
        "# Convert the dates to the DD-MM-YYYY format\n",
        "formatted_dates = [date.strftime('%d-%m-%Y') for date in dates]\n",
        "\n",
        "# Print the formatted dates\n",
        "print(formatted_dates)\n"
      ],
      "metadata": {
        "colab": {
          "base_uri": "https://localhost:8080/"
        },
        "id": "eq9l-DIqOqib",
        "outputId": "01af196e-ea1c-48b8-c42b-df76c010f400"
      },
      "execution_count": null,
      "outputs": [
        {
          "output_type": "stream",
          "name": "stdout",
          "text": [
            "['25-06-2023']\n"
          ]
        }
      ]
    },
    {
      "cell_type": "markdown",
      "source": [
        "### 10. Plot a distribution of the different values of year occurring in the text."
      ],
      "metadata": {
        "id": "XsMPEOPVXzj2"
      }
    },
    {
      "cell_type": "code",
      "source": [
        "# Find all dates in the paragraph\n",
        "dates = datefinder.find_dates(paragraph)\n",
        "\n",
        "# Extract years from the dates\n",
        "years = [date.year for date in dates if date is not None]\n",
        "\n",
        "# Create a frequency distribution of the years\n",
        "year_counts = dict(Counter(years))\n",
        "\n",
        "# Plot the distribution of the years\n",
        "plt.bar(year_counts.keys(), year_counts.values())\n",
        "plt.xlabel('Year')\n",
        "plt.ylabel('Count')\n",
        "plt.title('Year Distribution')\n",
        "plt.show()\n"
      ],
      "metadata": {
        "colab": {
          "base_uri": "https://localhost:8080/",
          "height": 472
        },
        "id": "GPjecr3dOsX0",
        "outputId": "0957d1b6-b105-49a0-bac2-fc07934bd817"
      },
      "execution_count": null,
      "outputs": [
        {
          "output_type": "display_data",
          "data": {
            "text/plain": [
              "<Figure size 640x480 with 1 Axes>"
            ],
            "image/png": "[encoded data removed]"
          },
          "metadata": {}
        }
      ]
    },
    {
      "cell_type": "markdown",
      "source": [
        "### 11. Determine whether the text contains any phone numbers in it. Ensure the phone numbers are valid if any. If an invalid phone number is found, remove it from the text."
      ],
      "metadata": {
        "id": "g6m12RoIX1kq"
      }
    },
    {
      "cell_type": "code",
      "source": [
        "# Find all phone numbers in the paragraph\n",
        "phone_numbers = [match.raw_string for match in phonenumbers.PhoneNumberMatcher(paragraph, 'India')]\n",
        "\n",
        "# Validate each phone number\n",
        "valid_phone_numbers = [phonenumber for phonenumber in phone_numbers if phonenumbers.is_valid_number(phonenumbers.parse(phonenumber, 'India'))]\n",
        "\n",
        "if valid_phone_numbers:\n",
        "    print(\"The text contains valid phone numbers:\", valid_phone_numbers)\n",
        "else:\n",
        "    print(\"The text does not contain any valid phone numbers.\")\n"
      ],
      "metadata": {
        "colab": {
          "base_uri": "https://localhost:8080/"
        },
        "id": "13ifkm1bOuBM",
        "outputId": "b82fb55a-ec26-4a61-d4a3-bb5af662920f"
      },
      "execution_count": null,
      "outputs": [
        {
          "output_type": "stream",
          "name": "stdout",
          "text": [
            "The text does not contain any valid phone numbers.\n"
          ]
        }
      ]
    },
    {
      "cell_type": "code",
      "source": [
        "# If an invalid phone number is found, remove it from the text\n",
        "for invalid_number in set(phone_numbers) - set(valid_phone_numbers):\n",
        "    paragraph = paragraph.replace(invalid_number, '')"
      ],
      "metadata": {
        "id": "ieqqioBQOw0M"
      },
      "execution_count": null,
      "outputs": []
    },
    {
      "cell_type": "code",
      "execution_count": null,
      "metadata": {
        "colab": {
          "base_uri": "https://localhost:8080/"
        },
        "id": "k82bPcH5HI3h",
        "outputId": "9a2b0a5c-c5ff-4d80-b939-3bfd8a3824c0"
      },
      "outputs": [
        {
          "output_type": "stream",
          "name": "stdout",
          "text": [
            "Number of unique tokens: 53\n",
            "Number of punctuation characters: 18\n",
            "Cleaned paragraph: In the field of data science data preprocessing plays a crucial role It involves various tasks such as data cleaning integrating and transforming Different tools and techniques including Python Pandas and Numpy are used for this purpose Email me at exampleemailcom for further details My phone number is 1234567890 I was born on 27March2000\n",
            "Filtered paragraph after removing stopwords: field data science , data preprocessing plays crucial role . involves various tasks data cleaning , integrating , transforming . Different tools techniques , including Python , Pandas , Numpy , used purpose . Email example @ email.com details . phone number +1234567890 . born 27-March-2000 .\n",
            "Number of unique lemmas: 50\n"
          ]
        }
      ],
      "source": [
        "# Print or use the results as required\n",
        "print(f'Number of unique tokens: {unique_tokens_count}')\n",
        "print(f'Number of punctuation characters: {punctuations_count}')\n",
        "print(f'Cleaned paragraph: {cleaned_paragraph}')\n",
        "print(f'Filtered paragraph after removing stopwords: {filtered_paragraph}')\n",
        "print(f'Number of unique lemmas: {unique_lemmas_count}')"
      ]
    }
  ]
}
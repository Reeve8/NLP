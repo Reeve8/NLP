{
  "nbformat": 4,
  "nbformat_minor": 0,
  "metadata": {
    "colab": {
      "provenance": []
    },
    "kernelspec": {
      "name": "python3",
      "display_name": "Python 3"
    },
    "language_info": {
      "name": "python"
    }
  },
  "cells": [
    {
      "cell_type": "code",
      "execution_count": 1,
      "metadata": {
        "id": "ALl0Lv-YsTut"
      },
      "outputs": [],
      "source": [
        "import numpy as np\n",
        "\n",
        "def cosine_similarity(x, y):\n",
        "\n",
        "    # Ensure length of x and y are the same\n",
        "    if len(x) != len(y) :\n",
        "        return None\n",
        "\n",
        "    # Compute the dot product between x and y\n",
        "    dot_product = np.dot(x, y)\n",
        "\n",
        "    # Compute the L2 norms (magnitudes) of x and y\n",
        "    magnitude_x = np.sqrt(np.sum(x**2))\n",
        "    magnitude_y = np.sqrt(np.sum(y**2))\n",
        "\n",
        "    # Compute the cosine similarity\n",
        "    cosine_similarity = dot_product / (magnitude_x * magnitude_y)\n",
        "\n",
        "    return cosine_similarity"
      ]
    },
    {
      "cell_type": "code",
      "source": [
        "corpus = [  'data science is one of the most important fields of science',\n",
        "            'this is one of the best data science courses',\n",
        "            'data scientists analyze data'   ]"
      ],
      "metadata": {
        "id": "lNIXvk_kshqk"
      },
      "execution_count": 2,
      "outputs": []
    },
    {
      "cell_type": "code",
      "source": [
        "from sklearn.feature_extraction.text import CountVectorizer\n",
        "\n",
        "# Create a matrix to represent the corpus\n",
        "X = CountVectorizer().fit_transform(corpus).toarray()\n",
        "\n",
        "print(X)"
      ],
      "metadata": {
        "colab": {
          "base_uri": "https://localhost:8080/"
        },
        "id": "lEs2y1FoshnV",
        "outputId": "43d176d6-00a7-4f6d-e216-398f5ba01008"
      },
      "execution_count": 3,
      "outputs": [
        {
          "output_type": "stream",
          "name": "stdout",
          "text": [
            "[[0 0 0 1 1 1 1 1 2 1 2 0 1 0]\n",
            " [0 1 1 1 0 0 1 0 1 1 1 0 1 1]\n",
            " [1 0 0 2 0 0 0 0 0 0 0 1 0 0]]\n"
          ]
        }
      ]
    },
    {
      "cell_type": "code",
      "source": [
        "cos_sim_1_2 = cosine_similarity(X[0, :], X[1, :])\n",
        "cos_sim_1_3 = cosine_similarity(X[0, :], X[2, :])\n",
        "cos_sim_2_3 = cosine_similarity(X[1, :], X[2, :])\n",
        "\n",
        "print('Cosine Similarity between: ')\n",
        "print('\\tDocument 1 and Document 2: ', cos_sim_1_2)\n",
        "print('\\tDocument 1 and Document 3: ', cos_sim_1_3)\n",
        "print('\\tDocument 2 and Document 3: ', cos_sim_2_3)"
      ],
      "metadata": {
        "colab": {
          "base_uri": "https://localhost:8080/"
        },
        "id": "klrqVgHsshjU",
        "outputId": "206947df-5fe7-4959-db65-9a33b61789ce"
      },
      "execution_count": 4,
      "outputs": [
        {
          "output_type": "stream",
          "name": "stdout",
          "text": [
            "Cosine Similarity between: \n",
            "\tDocument 1 and Document 2:  0.6885303726590962\n",
            "\tDocument 1 and Document 3:  0.21081851067789195\n",
            "\tDocument 2 and Document 3:  0.2721655269759087\n"
          ]
        }
      ]
    },
    {
      "cell_type": "code",
      "source": [
        "from sklearn.metrics.pairwise import cosine_similarity"
      ],
      "metadata": {
        "id": "hVL_e3OVsxSQ"
      },
      "execution_count": 5,
      "outputs": []
    },
    {
      "cell_type": "code",
      "source": [
        "cos_sim_1_2 = cosine_similarity([X[0, :], X[1, :]])\n",
        "\n",
        "print('Cosine Similarity between Document 1 and Document 2 is \\n',cos_sim_1_2 )\n"
      ],
      "metadata": {
        "colab": {
          "base_uri": "https://localhost:8080/"
        },
        "id": "0vjyNBZ9s03h",
        "outputId": "c782f857-1503-47a1-8bcb-3b264ff098c6"
      },
      "execution_count": 12,
      "outputs": [
        {
          "output_type": "stream",
          "name": "stdout",
          "text": [
            "Cosine Similarity between Document 1 and Document 2 is \n",
            " [[1.         0.68853037]\n",
            " [0.68853037 1.        ]]\n"
          ]
        }
      ]
    },
    {
      "cell_type": "code",
      "source": [
        "cos_sim_1_3 = cosine_similarity([X[0, :], X[2, :]])\n",
        "\n",
        "print('Cosine Similarity between Document 1 and Document 3 is \\n',cos_sim_1_3 )\n"
      ],
      "metadata": {
        "colab": {
          "base_uri": "https://localhost:8080/"
        },
        "id": "3eR53NAZtgdX",
        "outputId": "d731d0b2-4d06-42fa-cd9e-f5757d1e5ee8"
      },
      "execution_count": 13,
      "outputs": [
        {
          "output_type": "stream",
          "name": "stdout",
          "text": [
            "Cosine Similarity between Document 1 and Document 3 is \n",
            " [[1.         0.21081851]\n",
            " [0.21081851 1.        ]]\n"
          ]
        }
      ]
    },
    {
      "cell_type": "code",
      "source": [
        "cos_sim_2_3 = cosine_similarity([X[1, :], X[2, :]])\n",
        "\n",
        "print('Cosine Similarity between Document 2 and Document 3 is \\n',cos_sim_2_3 )\n"
      ],
      "metadata": {
        "colab": {
          "base_uri": "https://localhost:8080/"
        },
        "id": "YV4mXo3VtgYj",
        "outputId": "409cfdca-ba72-4367-8af6-473cb05511a0"
      },
      "execution_count": 15,
      "outputs": [
        {
          "output_type": "stream",
          "name": "stdout",
          "text": [
            "Cosine Similarity between Document 2 and Document 3 is \n",
            " [[1.         0.27216553]\n",
            " [0.27216553 1.        ]]\n"
          ]
        }
      ]
    }
  ]
}